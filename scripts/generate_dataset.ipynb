{
 "cells": [
  {
   "cell_type": "code",
   "execution_count": 12,
   "metadata": {},
   "outputs": [],
   "source": [
    "from dotenv import load_dotenv\n",
    "import os\n",
    "load_dotenv()\n",
    "\n",
    "# get ESTA_API_KEY\n",
    "api_key = os.environ.get('ESTA_API_KEY')\n",
    "\n",
    "# set url\n",
    "url = 'https://d09uj3e9kh.execute-api.us-east-1.amazonaws.com/dev/inference'"
   ]
  },
  {
   "cell_type": "code",
   "execution_count": null,
   "metadata": {},
   "outputs": [],
   "source": [
    "import csv\n",
    "import requests\n",
    "import time\n",
    "\n",
    "answers = []\n",
    "\n",
    "with open(\"data/questions.csv\", \"r\", encoding=\"utf-8\") as file:\n",
    "    reader = csv.reader(file)\n",
    "    rows = list(reader)\n",
    "\n",
    "    with open(\n",
    "        \"data/questions_answers.csv\", \"w\", encoding=\"utf-8\", newline=\"\\n\"\n",
    "    ) as outfile:\n",
    "        writer = csv.writer(outfile, delimiter=\";\")\n",
    "        writer.writerow(['Question', 'Answer', 'TTC'])  # Write header\n",
    "\n",
    "        for row in rows:\n",
    "            start_time = time.time()\n",
    "            req = requests.get(\n",
    "                url,\n",
    "                params={\n",
    "                    'query': row[0],\n",
    "                    'collectionName': 'levio-hr',\n",
    "                },\n",
    "                headers={\n",
    "                    'x-api-key': api_key,\n",
    "                    'accept': 'application/json',\n",
    "                    'Content-Type': 'application/json',\n",
    "                },\n",
    "            )\n",
    "            time_taken = time.time() - start_time\n",
    "            answer = req.text\n",
    "            writer.writerow([row[0], answer, time_taken])"
   ]
  }
 ],
 "metadata": {
  "kernelspec": {
   "display_name": "Python 3",
   "language": "python",
   "name": "python3"
  },
  "language_info": {
   "codemirror_mode": {
    "name": "ipython",
    "version": 3
   },
   "file_extension": ".py",
   "mimetype": "text/x-python",
   "name": "python",
   "nbconvert_exporter": "python",
   "pygments_lexer": "ipython3",
   "version": "3.11.4"
  }
 },
 "nbformat": 4,
 "nbformat_minor": 2
}

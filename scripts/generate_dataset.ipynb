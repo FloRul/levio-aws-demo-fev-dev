{
 "cells": [
  {
   "cell_type": "code",
   "execution_count": 12,
   "metadata": {},
   "outputs": [],
   "source": [
    "import csv\n",
    "from dotenv import load_dotenv\n",
    "import os\n",
    "import requests\n",
    "import json\n",
    "load_dotenv()\n",
    "\n",
    "# get ESTA_API_KEY\n",
    "api_key = os.environ.get('ESTA_API_KEY')\n",
    "\n",
    "# set url\n",
    "url = 'https://d09uj3e9kh.execute-api.us-east-1.amazonaws.com/dev/inference'"
   ]
  },
  {
   "cell_type": "code",
   "execution_count": 19,
   "metadata": {},
   "outputs": [
    {
     "name": "stdout",
     "output_type": "stream",
     "text": [
      "[\"Qui est le président de l'entreprise Levio?\"]\n",
      "['Quelle est la principale richesse de Levio?']\n"
     ]
    }
   ],
   "source": [
    "import csv\n",
    "import requests\n",
    "\n",
    "answers = []\n",
    "\n",
    "with open(\"data/questions.csv\", \"r\", encoding=\"utf-8\") as file:\n",
    "    reader = csv.reader(file)\n",
    "    rows = list(reader)\n",
    "\n",
    "    with open(\n",
    "        \"data/questions_answers.csv\", \"w\", encoding=\"utf-8\", newline=\"\\n\"\n",
    "    ) as outfile:\n",
    "        writer = csv.writer(outfile)\n",
    "        writer.writerow([\"Question\", \"Answer\"])  # Write header\n",
    "\n",
    "        for row in rows[0:2]:\n",
    "            print(row)\n",
    "            req = requests.get(\n",
    "                url,\n",
    "                params={\n",
    "                    \"query\": row[0],\n",
    "                    \"sessionId\": \"123\",\n",
    "                    \"collectionName\": \"levio-hr\",\n",
    "                },\n",
    "                headers={\n",
    "                    \"x-api-key\": api_key,\n",
    "                    \"accept\": \"application/json\",\n",
    "                    \"Content-Type\": \"application/json\",\n",
    "                },\n",
    "            )\n",
    "            response = req.json()  # Assuming the response is JSON\n",
    "            answer = response[\n",
    "                \"body\"\n",
    "            ]  # Replace 'body' with the key containing the answer in the response\n",
    "            writer.writerow(\n",
    "                [row[0], answer]\n",
    "            )  # Write question and answer to the new CSV"
   ]
  },
  {
   "cell_type": "code",
   "execution_count": 23,
   "metadata": {},
   "outputs": [
    {
     "data": {
      "text/plain": [
       "\" D'après les informations contenues dans le document, le président et fondateur de l'entreprise Levio est François Dion. Plusieurs citations mentionnent que François Dion a fondé Levio en 2013 et qu'il continue d'occuper le rôle de président. Ces citations soulignent également l'importance qu'il accorde à rassembler une équipe motivée autour d'une vision commune de réaliser des projets de transformation numérique d'envergure. On peut donc conclure que le président de l'entreprise Levio est François Dion depuis sa création.\""
      ]
     },
     "execution_count": 23,
     "metadata": {},
     "output_type": "execute_result"
    }
   ],
   "source": [
    "answers[0].text"
   ]
  }
 ],
 "metadata": {
  "kernelspec": {
   "display_name": "Python 3",
   "language": "python",
   "name": "python3"
  },
  "language_info": {
   "codemirror_mode": {
    "name": "ipython",
    "version": 3
   },
   "file_extension": ".py",
   "mimetype": "text/x-python",
   "name": "python",
   "nbconvert_exporter": "python",
   "pygments_lexer": "ipython3",
   "version": "3.11.4"
  }
 },
 "nbformat": 4,
 "nbformat_minor": 2
}

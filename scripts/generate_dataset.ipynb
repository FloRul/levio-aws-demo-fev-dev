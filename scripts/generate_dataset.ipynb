{
 "cells": [
  {
   "cell_type": "code",
   "execution_count": 16,
   "metadata": {},
   "outputs": [],
   "source": [
    "import csv\n",
    "from dotenv import load_dotenv\n",
    "import os\n",
    "import requests\n",
    "load_dotenv()\n",
    "\n",
    "# get ESTA_API_KEY\n",
    "api_key = os.environ.get('ESTA_API_KEY')\n",
    "\n",
    "# set url\n",
    "url = 'https://d09uj3e9kh.execute-api.us-east-1.amazonaws.com/dev'"
   ]
  },
  {
   "cell_type": "code",
   "execution_count": 17,
   "metadata": {},
   "outputs": [
    {
     "name": "stdout",
     "output_type": "stream",
     "text": [
      "[\"Qui est le président de l'entreprise Levio?\"]\n",
      "['Quelle est la principale richesse de Levio?']\n"
     ]
    }
   ],
   "source": [
    "answers = []\n",
    "with open('data/questions.csv', 'r', encoding='utf-8') as file:\n",
    "  reader = csv.reader(file)\n",
    "  rows = list(reader)\n",
    "  for row in rows[0:2]:\n",
    "    print(row)\n",
    "    req = requests.get(url, \n",
    "                       params={'query': row[0], 'sessionId': '123', 'collectionName':'levio-hr'}, \n",
    "                       headers={'x-api-key': api_key},)\n",
    "    answers.append(req.json())"
   ]
  },
  {
   "cell_type": "code",
   "execution_count": 18,
   "metadata": {},
   "outputs": [
    {
     "data": {
      "text/plain": [
       "[{'message': 'Missing Authentication Token'},\n",
       " {'message': 'Missing Authentication Token'}]"
      ]
     },
     "execution_count": 18,
     "metadata": {},
     "output_type": "execute_result"
    }
   ],
   "source": [
    "answers"
   ]
  }
 ],
 "metadata": {
  "kernelspec": {
   "display_name": "Python 3",
   "language": "python",
   "name": "python3"
  },
  "language_info": {
   "codemirror_mode": {
    "name": "ipython",
    "version": 3
   },
   "file_extension": ".py",
   "mimetype": "text/x-python",
   "name": "python",
   "nbconvert_exporter": "python",
   "pygments_lexer": "ipython3",
   "version": "3.11.4"
  }
 },
 "nbformat": 4,
 "nbformat_minor": 2
}
